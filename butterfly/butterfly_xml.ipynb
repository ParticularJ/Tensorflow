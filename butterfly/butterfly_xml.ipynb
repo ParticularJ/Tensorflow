{
 "cells": [
  {
   "cell_type": "code",
   "execution_count": 22,
   "metadata": {},
   "outputs": [],
   "source": [
    "import os\n",
    "from xml.etree import ElementTree as ET\n",
    "import numpy as np"
   ]
  },
  {
   "cell_type": "code",
   "execution_count": 23,
   "metadata": {},
   "outputs": [],
   "source": [
    "filename='/home/ck/butterfly/xz/label'\n",
    "if not os.path.exists(filename):\n",
    "    os.mkdir(filename)\n",
    "path=\"/home/ck/butterfly/butt_train/train_set/annotations\"\n",
    "dirs=os.listdir(path)"
   ]
  },
  {
   "cell_type": "code",
   "execution_count": 42,
   "metadata": {},
   "outputs": [],
   "source": [
    "for dir1 in dirs:\n",
    "   # print(dir)\n",
    "    name = dir1.split('.')[0] + '.txt'\n",
    "    #print(name)\n",
    "    txt_name=os.path.join(filename, name)\n",
    "  #  print(txt_name)\n",
    "    if not os.path.exists(txt_name):\n",
    "        os.mknod(txt_name)\n",
    "   # with open(txt_name, 'a') as file:\n",
    "   #     file.write('1'+'\\n')\n",
    "    xml = os.path.join(path, dir1)\n",
    "    str_xml = open(xml,'r').read()\n",
    "    root = ET.fromstring(str_xml)\n",
    "    for child in root:\n",
    "        for child_o in child:\n",
    "            count=0\n",
    "            for child_t in child_o:\n",
    "                count+=1\n",
    "               # print(child_t.text)\n",
    "                with open(txt_name, 'a') as f:\n",
    "                    if count<=4:\n",
    "                        f.write(child_t.text)\n",
    "                    if count==4:\n",
    "                        f.write('\\n')\n",
    "                        f.write(child_t.text)\n",
    "                \n",
    "           # print(count)\n",
    "    #            with open(txt_name, 'a') as file:\n",
    "    #                file.write(child_t.text+' ')"
   ]
  },
  {
   "cell_type": "code",
   "execution_count": null,
   "metadata": {},
   "outputs": [],
   "source": []
  }
 ],
 "metadata": {
  "kernelspec": {
   "display_name": "Python 3",
   "language": "python",
   "name": "python3"
  },
  "language_info": {
   "codemirror_mode": {
    "name": "ipython",
    "version": 3
   },
   "file_extension": ".py",
   "mimetype": "text/x-python",
   "name": "python",
   "nbconvert_exporter": "python",
   "pygments_lexer": "ipython3",
   "version": "3.5.4"
  }
 },
 "nbformat": 4,
 "nbformat_minor": 2
}
