{
 "cells": [
  {
   "cell_type": "code",
   "execution_count": 1,
   "metadata": {},
   "outputs": [],
   "source": []
  },
  {
   "cell_type": "code",
   "execution_count": 13,
   "metadata": {},
   "outputs": [
    {
     "name": "stdout",
     "output_type": "stream",
     "text": [
      "inside foobar\n",
      "(['hello, world, 123'],) {'a': 3, 'foo': 2, 'bar': 5}\n",
      "Method Name - foobar, Args - (['hello, world, 123'],), Kwargs - {'a': 3, 'foo': 2, 'bar': 5}, Execution Time - 0.30082082748413086\n"
     ]
    }
   ],
   "source": [
    "import time\n",
    "\n",
    "def timetest(input_func):\n",
    "\n",
    "    def timed(*args, **kwargs):\n",
    "\n",
    "        start_time = time.time()\n",
    "        result = input_func(*args, **kwargs)\n",
    "        end_time = time.time()\n",
    "        print( \"Method Name - {0}, Args - {1}, Kwargs - {2}, Execution Time - {3}\".format(\n",
    "            input_func.__name__,\n",
    "            args,\n",
    "            kwargs,\n",
    "            end_time - start_time\n",
    "        ))\n",
    "        return result\n",
    "    return timed\n",
    "\n",
    "\n",
    "@timetest\n",
    "def foobar(*args, **kwargs):\n",
    "    time.sleep(0.3)\n",
    "    print(\"inside foobar\")\n",
    "    print(args, kwargs)\n",
    "\n",
    "foobar([\"hello, world, 123\"],a =3, foo=2, bar=5)\n"
   ]
  },
  {
   "cell_type": "code",
   "execution_count": 17,
   "metadata": {},
   "outputs": [
    {
     "name": "stdout",
     "output_type": "stream",
     "text": [
      "Its a cool place to live in.\n"
     ]
    }
   ],
   "source": [
    "def method_decorator(method):\n",
    "\n",
    "    def inner(city_instance):\n",
    "        if city_instance.name == \"SFO\":\n",
    "            print( \"Its a cool place to live in.\")\n",
    "        else:\n",
    "            method(city_instance)\n",
    "    return inner\n",
    "\n",
    "\n",
    "class City(object):\n",
    "\n",
    "    def __init__(self, name):\n",
    "        self.name = name\n",
    "\n",
    "    @method_decorator\n",
    "    def print_test(self):\n",
    "        print(self.name)\n",
    "\n",
    "p1 = City(\"SFO\")\n",
    "\n",
    "p1.print_test()"
   ]
  },
  {
   "cell_type": "code",
   "execution_count": 27,
   "metadata": {},
   "outputs": [
    {
     "name": "stdout",
     "output_type": "stream",
     "text": [
      "decorator initialised\n",
      "class,1,23\n",
      "('1,23,3',) {'a': 3, 'b': 4}\n",
      "decorator terminated\n"
     ]
    }
   ],
   "source": [
    "class decoclass(object):\n",
    "\n",
    "    def __init__(self, f):\n",
    "        self.f = f\n",
    "\n",
    "    def __call__(self, *args, **kwargs):\n",
    "        # before f actions\n",
    "        print ('decorator initialised')\n",
    "        self.f(*args, **kwargs)\n",
    "        print ('decorator terminated')\n",
    "        # after f actions\n",
    "\n",
    "@decoclass\n",
    "def klass(*args, **kwargs):\n",
    "    print ('class,1,23')\n",
    "    print(args, kwargs)\n",
    "\n",
    "klass(\"1,23,3\",a=3,b=4)"
   ]
  },
  {
   "cell_type": "code",
   "execution_count": 29,
   "metadata": {},
   "outputs": [
    {
     "name": "stdout",
     "output_type": "stream",
     "text": [
      "<b><i>Hello</i></b>\n"
     ]
    }
   ],
   "source": [
    "def makebold(f):\n",
    "    return lambda: \"<b>\" + f() + \"</b>\"\n",
    "def makeitalic(f):\n",
    "    return lambda: \"<i>\" + f() + \"</i>\"\n",
    "\n",
    "@makebold\n",
    "@makeitalic\n",
    "def say():\n",
    "    return \"Hello\"\n",
    "\n",
    "print(say())"
   ]
  },
  {
   "cell_type": "code",
   "execution_count": 34,
   "metadata": {},
   "outputs": [
    {
     "name": "stdout",
     "output_type": "stream",
     "text": [
      "foobarwas called\n",
      "16\n",
      "inner_function\n",
      "inner function docstring \n"
     ]
    }
   ],
   "source": [
    "def decorator(func):\n",
    "    \"\"\"decorator docstring\"\"\"\n",
    "    def inner_function(*args, **kwargs):\n",
    "        \"\"\"inner function docstring \"\"\"\n",
    "        print(func.__name__ + \"was called\")\n",
    "        return func(*args, **kwargs)\n",
    "    return inner_function\n",
    "\n",
    "\n",
    "@decorator\n",
    "def foobar(x):\n",
    "    \"\"\"foobar docstring\"\"\"\n",
    "    return x**2\n",
    "print(foobar(4))\n",
    "print(foobar.__name__)\n",
    "print(foobar.__doc__)\n"
   ]
  },
  {
   "cell_type": "code",
   "execution_count": 36,
   "metadata": {},
   "outputs": [
    {
     "name": "stdout",
     "output_type": "stream",
     "text": [
      "foobarwas called\n",
      "16\n",
      "foobar\n",
      "foobar docstring\n"
     ]
    }
   ],
   "source": [
    "from functools import wraps\n",
    "\n",
    "def wrapped_decorator(func):\n",
    "    \"\"\"wrapped decorator docstring\"\"\"\n",
    "    @wraps(func)\n",
    "    def inner_function(*args, **kwargs):\n",
    "        \"\"\"inner function docstring \"\"\"\n",
    "        print(func.__name__ + \"was called\")\n",
    "        return func(*args, **kwargs)\n",
    "    return inner_function\n",
    "\n",
    "\n",
    "@wrapped_decorator\n",
    "def foobar(x):\n",
    "    \"\"\"foobar docstring\"\"\"\n",
    "    return x**2\n",
    "print(foobar(4))\n",
    "print(foobar.__name__)\n",
    "print( foobar.__doc__)"
   ]
  },
  {
   "cell_type": "code",
   "execution_count": 43,
   "metadata": {},
   "outputs": [
    {
     "name": "stdout",
     "output_type": "stream",
     "text": [
      "Arguements passed to decorator arg1 and arg2\n",
      "1\n",
      "2\n",
      "3\n"
     ]
    }
   ],
   "source": [
    "from functools import wraps\n",
    "\n",
    "\n",
    "def decorator(arg1, arg2):\n",
    "\n",
    "    def inner_function(function):\n",
    "        @wraps(function)\n",
    "        def wrapper(*args, **kwargs):\n",
    "            print(\"Arguements passed to decorator %s and %s\" % (arg1, arg2))\n",
    "            function(*args, **kwargs)\n",
    "        return wrapper\n",
    "    return inner_function\n",
    "\n",
    "\n",
    "@decorator(\"arg1\", \"arg2\")\n",
    "def print_args(*args):\n",
    "    for arg in args:\n",
    "        print (arg)\n",
    "\n",
    "print_args(1, 2, 3)\n"
   ]
  },
  {
   "cell_type": "code",
   "execution_count": 45,
   "metadata": {},
   "outputs": [
    {
     "name": "stdout",
     "output_type": "stream",
     "text": [
      "Arguements passed to decorator arg1 and arg2\n",
      "Args passed inside decorated function .arg1 and arg2\n",
      "1\n",
      "2\n",
      "3\n"
     ]
    }
   ],
   "source": [
    "class ClassDecorator(object):\n",
    "\n",
    "    def __init__(self, arg1, arg2):\n",
    "        print( \"Arguements passed to decorator %s and %s\" % (arg1, arg2))\n",
    "        self.arg1 = arg1\n",
    "        self.arg2 = arg2\n",
    "\n",
    "    def __call__(self, foo, *args, **kwargs):\n",
    "\n",
    "        def inner_func(*args, **kwargs):\n",
    "            print( \"Args passed inside decorated function .%s and %s\" % (self.arg1, self.arg2))\n",
    "            return foo(*args, **kwargs)\n",
    "        return inner_func\n",
    "\n",
    "\n",
    "@ClassDecorator(\"arg1\", \"arg2\")\n",
    "def print_args(*args):\n",
    "    for arg in args:\n",
    "        print(arg)\n",
    "\n",
    "\n",
    "print_args(1, 2, 3)"
   ]
  },
  {
   "cell_type": "code",
   "execution_count": null,
   "metadata": {},
   "outputs": [],
   "source": []
  }
 ],
 "metadata": {
  "kernelspec": {
   "display_name": "Python 3",
   "language": "python",
   "name": "python3"
  },
  "language_info": {
   "codemirror_mode": {
    "name": "ipython",
    "version": 3
   },
   "file_extension": ".py",
   "mimetype": "text/x-python",
   "name": "python",
   "nbconvert_exporter": "python",
   "pygments_lexer": "ipython3",
   "version": "3.6.2"
  }
 },
 "nbformat": 4,
 "nbformat_minor": 2
}
